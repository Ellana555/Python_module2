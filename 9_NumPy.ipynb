{
  "nbformat": 4,
  "nbformat_minor": 0,
  "metadata": {
    "colab": {
      "provenance": [],
      "authorship_tag": "ABX9TyOTSbwctIvHuXxCYIP0fn6v",
      "include_colab_link": true
    },
    "kernelspec": {
      "name": "python3",
      "display_name": "Python 3"
    },
    "language_info": {
      "name": "python"
    }
  },
  "cells": [
    {
      "cell_type": "markdown",
      "metadata": {
        "id": "view-in-github",
        "colab_type": "text"
      },
      "source": [
        "<a href=\"https://colab.research.google.com/github/Ellana555/Python_module2/blob/main/9_NumPy.ipynb\" target=\"_parent\"><img src=\"https://colab.research.google.com/assets/colab-badge.svg\" alt=\"Open In Colab\"/></a>"
      ]
    },
    {
      "cell_type": "code",
      "execution_count": null,
      "metadata": {
        "id": "KLsDxSeinh0V"
      },
      "outputs": [],
      "source": [
        "import numpy as np\n",
        "import pandas as pd"
      ]
    },
    {
      "cell_type": "code",
      "source": [
        "# Массив с данными учеников\n",
        "students = np.array([\n",
        "                     [1, 135, 34, 4],\n",
        "                     [2, 160, 43, 5],\n",
        "                     [3, 163, 40, 4.3],\n",
        "                     [4, 147, 44, 5],\n",
        "                     [5, 138, 41, 4.7],\n",
        "                     [6, 149, 54, 3.9],\n",
        "                     [7, 136, 39, 4.2],\n",
        "                     [8, 154, 48, 4.9],\n",
        "                     [9, 137, 35, 3.7],\n",
        "                     [10, 165, 60, 4.6]])\n",
        "#students = pd.DataFrame(students, columns=['ID (номер в журнале)', 'Рост, см',\t'Масса тела, кг', 'Средний балл'])\n",
        "students"
      ],
      "metadata": {
        "colab": {
          "base_uri": "https://localhost:8080/"
        },
        "id": "btvi82W_od0I",
        "outputId": "8f1e728d-e5e1-4592-8df7-e7877761a2a4"
      },
      "execution_count": null,
      "outputs": [
        {
          "output_type": "execute_result",
          "data": {
            "text/plain": [
              "array([[  1. , 135. ,  34. ,   4. ],\n",
              "       [  2. , 160. ,  43. ,   5. ],\n",
              "       [  3. , 163. ,  40. ,   4.3],\n",
              "       [  4. , 147. ,  44. ,   5. ],\n",
              "       [  5. , 138. ,  41. ,   4.7],\n",
              "       [  6. , 149. ,  54. ,   3.9],\n",
              "       [  7. , 136. ,  39. ,   4.2],\n",
              "       [  8. , 154. ,  48. ,   4.9],\n",
              "       [  9. , 137. ,  35. ,   3.7],\n",
              "       [ 10. , 165. ,  60. ,   4.6]])"
            ]
          },
          "metadata": {},
          "execution_count": 20
        }
      ]
    },
    {
      "cell_type": "code",
      "source": [
        "# Средняя успеваемость\n",
        "mean = np.mean(students[:, -1])\n",
        "print(mean)"
      ],
      "metadata": {
        "colab": {
          "base_uri": "https://localhost:8080/"
        },
        "id": "UgJxjyT0q_O3",
        "outputId": "2ea58c97-286e-489b-f615-b8d29af33c28"
      },
      "execution_count": null,
      "outputs": [
        {
          "output_type": "stream",
          "name": "stdout",
          "text": [
            "4.430000000000001\n"
          ]
        }
      ]
    },
    {
      "cell_type": "code",
      "source": [
        "# Медиана\n",
        "median = np.median(students[:,-1])\n",
        "median"
      ],
      "metadata": {
        "colab": {
          "base_uri": "https://localhost:8080/"
        },
        "id": "FMXlTzxTwgc2",
        "outputId": "46602362-235b-4276-a096-f3f5b0ae5266"
      },
      "execution_count": null,
      "outputs": [
        {
          "output_type": "execute_result",
          "data": {
            "text/plain": [
              "np.float64(4.449999999999999)"
            ]
          },
          "metadata": {},
          "execution_count": 22
        }
      ]
    },
    {
      "cell_type": "code",
      "source": [
        "sort = np.sort(students[:,-1])\n",
        "sort"
      ],
      "metadata": {
        "colab": {
          "base_uri": "https://localhost:8080/"
        },
        "id": "ehbPoPYCzrZ2",
        "outputId": "6fa2d672-809f-4f95-c93c-c86c45e3f42a"
      },
      "execution_count": null,
      "outputs": [
        {
          "output_type": "execute_result",
          "data": {
            "text/plain": [
              "array([3.7, 3.9, 4. , 4.2, 4.3, 4.6, 4.7, 4.9, 5. , 5. ])"
            ]
          },
          "metadata": {},
          "execution_count": 24
        }
      ]
    },
    {
      "cell_type": "code",
      "source": [
        "(sort[4]+sort[5])/2"
      ],
      "metadata": {
        "colab": {
          "base_uri": "https://localhost:8080/"
        },
        "id": "36ppRmbkzvdl",
        "outputId": "4f4de482-f66a-42a1-851f-c5d2d5478072"
      },
      "execution_count": null,
      "outputs": [
        {
          "output_type": "execute_result",
          "data": {
            "text/plain": [
              "np.float64(4.449999999999999)"
            ]
          },
          "metadata": {},
          "execution_count": 25
        }
      ]
    },
    {
      "cell_type": "code",
      "source": [
        "mediana = np.median(students[:, 2])\n",
        "mediana"
      ],
      "metadata": {
        "colab": {
          "base_uri": "https://localhost:8080/"
        },
        "id": "LddDJ2Xd0SOE",
        "outputId": "3b5a1aff-e3f1-4730-dbdb-df0faec1ef1e"
      },
      "execution_count": null,
      "outputs": [
        {
          "output_type": "execute_result",
          "data": {
            "text/plain": [
              "np.float64(42.0)"
            ]
          },
          "metadata": {},
          "execution_count": 28
        }
      ]
    },
    {
      "cell_type": "code",
      "source": [
        "dif = np.mean(students[:, 2]) - np.median(students[:, 2])\n",
        "dif.round(1)"
      ],
      "metadata": {
        "colab": {
          "base_uri": "https://localhost:8080/"
        },
        "id": "bA0dddof0sqG",
        "outputId": "56b09a93-b54f-40a6-c913-9fc40fe44e0d"
      },
      "execution_count": null,
      "outputs": [
        {
          "output_type": "execute_result",
          "data": {
            "text/plain": [
              "np.float64(1.8)"
            ]
          },
          "metadata": {},
          "execution_count": 31
        }
      ]
    },
    {
      "cell_type": "code",
      "source": [
        "# Корреляция между ростом и весом\n",
        "corr = np.corrcoef(students[:,1], students[:,2])\n",
        "corr"
      ],
      "metadata": {
        "colab": {
          "base_uri": "https://localhost:8080/"
        },
        "id": "yzqCEoC6-ltG",
        "outputId": "24a9dc11-cdd2-4f02-a4d6-f7e35106714c"
      },
      "execution_count": null,
      "outputs": [
        {
          "output_type": "execute_result",
          "data": {
            "text/plain": [
              "array([[1.        , 0.64314431],\n",
              "       [0.64314431, 1.        ]])"
            ]
          },
          "metadata": {},
          "execution_count": 32
        }
      ]
    },
    {
      "cell_type": "code",
      "source": [
        "corr = np.corrcoef(students[:,2], students[:,3])\n",
        "corr"
      ],
      "metadata": {
        "colab": {
          "base_uri": "https://localhost:8080/"
        },
        "id": "-vkkjXJj_Cud",
        "outputId": "67f04fea-7be8-4102-b14b-4548915d95d5"
      },
      "execution_count": null,
      "outputs": [
        {
          "output_type": "execute_result",
          "data": {
            "text/plain": [
              "array([[1.        , 0.29801325],\n",
              "       [0.29801325, 1.        ]])"
            ]
          },
          "metadata": {},
          "execution_count": 34
        }
      ]
    },
    {
      "cell_type": "code",
      "source": [
        "# Стандартное отклонение\n",
        "std = np.std(students[:,1])\n",
        "mean_rost = np.mean(students[:,1])\n",
        "std\n",
        "#mean_rost"
      ],
      "metadata": {
        "colab": {
          "base_uri": "https://localhost:8080/"
        },
        "id": "h5wQCYWwC-iZ",
        "outputId": "cb8fd1a4-94d3-4ef6-dce8-1a5b12f123ac"
      },
      "execution_count": null,
      "outputs": [
        {
          "output_type": "execute_result",
          "data": {
            "text/plain": [
              "np.float64(11.083320801997928)"
            ]
          },
          "metadata": {},
          "execution_count": 42
        }
      ]
    },
    {
      "cell_type": "code",
      "source": [
        "std = np.std(students[:,3])\n",
        "std"
      ],
      "metadata": {
        "colab": {
          "base_uri": "https://localhost:8080/"
        },
        "id": "ywksEhCZD4Tr",
        "outputId": "f5fc15e0-81ff-4a9c-d571-08316d7b0495"
      },
      "execution_count": null,
      "outputs": [
        {
          "output_type": "execute_result",
          "data": {
            "text/plain": [
              "np.float64(0.4517742799230607)"
            ]
          },
          "metadata": {},
          "execution_count": 41
        }
      ]
    },
    {
      "cell_type": "code",
      "source": [
        "# Дисперсия\n",
        "var = np.var(students[:,2])\n",
        "var"
      ],
      "metadata": {
        "colab": {
          "base_uri": "https://localhost:8080/"
        },
        "id": "m6H9l-QNEVfN",
        "outputId": "8e48a0bc-c147-4703-b0af-8c62daa5d2a9"
      },
      "execution_count": null,
      "outputs": [
        {
          "output_type": "execute_result",
          "data": {
            "text/plain": [
              "np.float64(60.36)"
            ]
          },
          "metadata": {},
          "execution_count": 43
        }
      ]
    }
  ]
}